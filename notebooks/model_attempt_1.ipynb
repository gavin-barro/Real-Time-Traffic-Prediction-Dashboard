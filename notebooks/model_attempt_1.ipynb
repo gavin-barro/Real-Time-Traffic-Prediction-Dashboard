{
 "cells": [
  {
   "cell_type": "code",
   "execution_count": null,
   "id": "d6d7b8f5",
   "metadata": {},
   "outputs": [],
   "source": [
    "# Imports\n",
    "\n",
    "import pandas as pd\n",
    "import numpy as np\n",
    "from sklearn.ensemble import RandomForestRegressor\n",
    "from sklearn.model_selection import train_test_split\n",
    "from sklearn.metrics import mean_absolute_error\n",
    "from sklearn.preprocessing import OneHotEncoder\n",
    "from sklearn.compose import ColumnTransformer\n",
    "from sklearn.pipeline import make_pipeline"
   ]
  },
  {
   "cell_type": "code",
   "execution_count": 2,
   "id": "88ed4ac8",
   "metadata": {},
   "outputs": [],
   "source": [
    "# Load and explore data\n",
    "df = pd.read_csv(\"../data/raw/traffic_volume_2021_plus.csv\")"
   ]
  },
  {
   "cell_type": "code",
   "execution_count": 3,
   "id": "dd9559af",
   "metadata": {},
   "outputs": [],
   "source": [
    "# Feature Engineering\n",
    "df.rename(columns={'yr': 'year', 'm': 'month', 'd': 'day', 'hh': 'hour', 'mm': 'minute'}, inplace=True)\n",
    "df['timestamp'] = pd.to_datetime(df[['year', 'month', 'day', 'hour', 'minute']])\n",
    "\n",
    "# Derived time features\n",
    "df['hour'] = df['timestamp'].dt.hour\n",
    "df['dayofweek'] = df['timestamp'].dt.dayofweek\n",
    "df['is_weekend'] = df['dayofweek'].isin([5, 6]).astype(int)\n",
    "df['is_rush_hour'] = df['hour'].isin([7, 8, 9, 16, 17, 18]).astype(int)\n",
    "\n",
    "# Log-transform target variable\n",
    "df['log_vol'] = np.log1p(df['vol'])  # log(1 + x)"
   ]
  },
  {
   "cell_type": "code",
   "execution_count": 4,
   "id": "24f8f19e",
   "metadata": {},
   "outputs": [],
   "source": [
    "# Define Features\n",
    "\n",
    "# Numerical and categorical columns\n",
    "numerical = ['hour', 'minute', 'dayofweek', 'is_weekend', 'is_rush_hour']\n",
    "categorical = ['boro', 'direction', 'segmentid']\n",
    "\n",
    "X = df[numerical + categorical]\n",
    "y = df['log_vol']\n",
    "\n",
    "# Train-test split\n",
    "X_train, X_test, y_train, y_test = train_test_split(X, y, test_size=0.2, random_state=42)\n",
    "\n",
    "# Preprocessing pipeline\n",
    "preprocessor = ColumnTransformer(\n",
    "    transformers=[\n",
    "        ('cat', OneHotEncoder(handle_unknown='ignore'), categorical)\n",
    "    ],\n",
    "    remainder='passthrough'  # keep numerical columns as-is\n",
    ")"
   ]
  },
  {
   "cell_type": "code",
   "execution_count": 5,
   "id": "278542b9",
   "metadata": {},
   "outputs": [],
   "source": [
    "\n",
    "# Model pipeline\n",
    "model = make_pipeline(\n",
    "    preprocessor,\n",
    "    RandomForestRegressor(n_estimators=100, max_depth=15, random_state=42, n_jobs=-1)\n",
    ")\n",
    "\n",
    "# Train & Predict\n",
    "model.fit(X_train, y_train)\n",
    "y_pred_log = model.predict(X_test)\n"
   ]
  },
  {
   "cell_type": "code",
   "execution_count": 6,
   "id": "ebccf0a6",
   "metadata": {},
   "outputs": [
    {
     "name": "stdout",
     "output_type": "stream",
     "text": [
      "Improved MAE: 65.86\n"
     ]
    }
   ],
   "source": [
    "# Reverse log-transform\n",
    "y_true = np.expm1(y_test)\n",
    "y_pred = np.expm1(y_pred_log)\n",
    "\n",
    "\n",
    "# Evaluation\n",
    "mae = mean_absolute_error(y_true, y_pred)\n",
    "print(f\"Improved MAE: {mae:.2f}\")"
   ]
  }
 ],
 "metadata": {
  "kernelspec": {
   "display_name": "base",
   "language": "python",
   "name": "python3"
  },
  "language_info": {
   "codemirror_mode": {
    "name": "ipython",
    "version": 3
   },
   "file_extension": ".py",
   "mimetype": "text/x-python",
   "name": "python",
   "nbconvert_exporter": "python",
   "pygments_lexer": "ipython3",
   "version": "3.12.7"
  }
 },
 "nbformat": 4,
 "nbformat_minor": 5
}
