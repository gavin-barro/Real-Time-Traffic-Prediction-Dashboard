{
 "cells": [
  {
   "cell_type": "code",
   "execution_count": 4,
   "id": "62d93025",
   "metadata": {},
   "outputs": [],
   "source": [
    "import pandas as pd\n",
    "import matplotlib.pyplot as plt\n",
    "import seaborn as sns"
   ]
  },
  {
   "cell_type": "code",
   "execution_count": 2,
   "id": "e8cc13f7",
   "metadata": {},
   "outputs": [
    {
     "name": "stderr",
     "output_type": "stream",
     "text": [
      "/var/folders/px/j7p2_nnn6h339lc16xg05qbw0000gn/T/ipykernel_53826/3481257512.py:1: DtypeWarning: Columns (19,20) have mixed types. Specify dtype option on import or set low_memory=False.\n",
      "  df = pd.read_csv(\"../data/processed/traffic_volume_2018_plus_feature_engineered.csv\")\n"
     ]
    },
    {
     "name": "stdout",
     "output_type": "stream",
     "text": [
      "<class 'pandas.core.frame.DataFrame'>\n",
      "RangeIndex: 528625 entries, 0 to 528624\n",
      "Data columns (total 22 columns):\n",
      " #   Column             Non-Null Count   Dtype \n",
      "---  ------             --------------   ----- \n",
      " 0   requestid          528625 non-null  int64 \n",
      " 1   boro               528625 non-null  object\n",
      " 2   year               528625 non-null  int64 \n",
      " 3   month              528625 non-null  int64 \n",
      " 4   day                528625 non-null  int64 \n",
      " 5   hour               528625 non-null  int64 \n",
      " 6   minute             528625 non-null  int64 \n",
      " 7   vol                528625 non-null  int64 \n",
      " 8   segmentid          528625 non-null  int64 \n",
      " 9   wktgeom            528625 non-null  object\n",
      " 10  street             528625 non-null  object\n",
      " 11  fromst             528625 non-null  object\n",
      " 12  tost               528625 non-null  object\n",
      " 13  direction          528625 non-null  object\n",
      " 14  timestamp          528625 non-null  object\n",
      " 15  dayofweek          528625 non-null  object\n",
      " 16  is_weekend         528625 non-null  int64 \n",
      " 17  is_rush_hour       528625 non-null  int64 \n",
      " 18  is_holiday         528625 non-null  int64 \n",
      " 19  holiday_name       18048 non-null   object\n",
      " 20  holiday_type       18048 non-null   object\n",
      " 21  is_holiday_period  528625 non-null  int64 \n",
      "dtypes: int64(12), object(10)\n",
      "memory usage: 88.7+ MB\n"
     ]
    },
    {
     "data": {
      "text/plain": [
       "requestid                 0\n",
       "boro                      0\n",
       "year                      0\n",
       "month                     0\n",
       "day                       0\n",
       "hour                      0\n",
       "minute                    0\n",
       "vol                       0\n",
       "segmentid                 0\n",
       "wktgeom                   0\n",
       "street                    0\n",
       "fromst                    0\n",
       "tost                      0\n",
       "direction                 0\n",
       "timestamp                 0\n",
       "dayofweek                 0\n",
       "is_weekend                0\n",
       "is_rush_hour              0\n",
       "is_holiday                0\n",
       "holiday_name         510577\n",
       "holiday_type         510577\n",
       "is_holiday_period         0\n",
       "dtype: int64"
      ]
     },
     "execution_count": 2,
     "metadata": {},
     "output_type": "execute_result"
    }
   ],
   "source": [
    "df = pd.read_csv(\"../data/processed/traffic_volume_2018_plus_feature_engineered.csv\")\n",
    "\n",
    "# Quick look\n",
    "df.head()\n",
    "\n",
    "# Basic info\n",
    "df.info()\n",
    "\n",
    "# Check for nulls\n",
    "df.isnull().sum()"
   ]
  },
  {
   "cell_type": "code",
   "execution_count": null,
   "id": "454ae220",
   "metadata": {},
   "outputs": [],
   "source": [
    "# Line Plot: Volume Over Time\n",
    "plt.figure(figsize=(14, 6))\n",
    "sns.lineplot(data=df, x='timestamp', y='vol')\n",
    "plt.title(\"Traffic Volume Over Time\")\n",
    "plt.xlabel(\"Time\")\n",
    "plt.ylabel(\"Volume\")\n",
    "plt.tight_layout()\n",
    "plt.show()"
   ]
  }
 ],
 "metadata": {
  "kernelspec": {
   "display_name": "base",
   "language": "python",
   "name": "python3"
  },
  "language_info": {
   "codemirror_mode": {
    "name": "ipython",
    "version": 3
   },
   "file_extension": ".py",
   "mimetype": "text/x-python",
   "name": "python",
   "nbconvert_exporter": "python",
   "pygments_lexer": "ipython3",
   "version": "3.12.7"
  }
 },
 "nbformat": 4,
 "nbformat_minor": 5
}
