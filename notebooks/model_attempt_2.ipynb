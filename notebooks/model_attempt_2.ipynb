{
 "cells": [
  {
   "cell_type": "code",
   "execution_count": 1,
   "id": "145d6451",
   "metadata": {},
   "outputs": [],
   "source": [
    "import pandas as pd\n",
    "import numpy as np\n",
    "from sklearn.ensemble import RandomForestRegressor\n",
    "from sklearn.model_selection import train_test_split, cross_val_score, GridSearchCV\n",
    "from sklearn.metrics import mean_absolute_error\n",
    "from sklearn.preprocessing import OneHotEncoder, RobustScaler\n",
    "from sklearn.compose import ColumnTransformer\n",
    "from sklearn.pipeline import make_pipeline\n",
    "from xgboost import XGBRegressor\n",
    "import matplotlib.pyplot as plt\n",
    "import seaborn as sns"
   ]
  },
  {
   "cell_type": "code",
   "execution_count": null,
   "id": "3d2dec8a",
   "metadata": {},
   "outputs": [],
   "source": [
    "\"\"\" Load the data \"\"\"\n",
    "\n",
    "df = pd.read_csv('data/processed/traffic_volume_2021_plus.csv')  # Update with your data source\n",
    "\n",
    "# Rename columns for clarity\n",
    "df.rename(columns={'yr': 'year', 'm': 'month', 'd': 'day', 'hh': 'hour', 'mm': 'minute'}, inplace=True)\n",
    "\n",
    "# Create timestamp\n",
    "df['timestamp'] = pd.to_datetime(df[['year', 'month', 'day', 'hour', 'minute']])\n",
    "\n",
    "# Handle outliers: Remove top 1% of vol to reduce skew\n",
    "df = df[df['vol'] <= df['vol'].quantile(0.99)]"
   ]
  },
  {
   "cell_type": "code",
   "execution_count": null,
   "id": "cefd2f4c",
   "metadata": {},
   "outputs": [],
   "source": [
    "\"\"\" Feature Engineering \"\"\"\n",
    "\n",
    "# Derived time features\n",
    "df['hour'] = df['timestamp'].dt.hour\n",
    "df['dayofweek'] = df['timestamp'].dt.dayofweek\n",
    "df['is_weekend'] = df['dayofweek'].isin([5, 6]).astype(int)\n",
    "df['is_rush_hour'] = df['hour'].isin([7, 8, 9, 16, 17, 18]).astype(int)\n",
    "df['month'] = df['timestamp'].dt.month\n",
    "df['season'] = df['timestamp'].dt.month % 12 // 3  # 0: Winter, 1: Spring, etc.\n",
    "\n",
    "# Lagged feature (previous hour's volume by segment, borough, direction)\n",
    "df['vol_lag1'] = df.groupby(['segmentid', 'boro', 'direction'])['vol'].shift(1)\n",
    "\n",
    "# Log-transform target variable\n",
    "df['log_vol'] = np.log1p(df['vol'])  # log(1 + x) to handle zeros\n",
    "\n",
    "# Drop rows with NaN values from lagged features\n",
    "df = df.dropna()\n",
    "\n",
    "# Define features\n",
    "numerical = ['hour', 'minute', 'dayofweek', 'is_weekend', 'is_rush_hour', 'month', 'season', 'vol_lag1']\n",
    "categorical = ['boro', 'direction', 'segmentid']"
   ]
  },
  {
   "cell_type": "code",
   "execution_count": null,
   "id": "31235ece",
   "metadata": {},
   "outputs": [],
   "source": [
    "\"\"\" Train-Test Split \"\"\"\n",
    "\n",
    "# Define X and y\n",
    "X = df[numerical + categorical]\n",
    "y = df['log_vol']\n",
    "\n",
    "# Train-test split\n",
    "X_train, X_test, y_train, y_test = train_test_split(X, y, test_size=0.2, random_state=42)"
   ]
  },
  {
   "cell_type": "code",
   "execution_count": null,
   "id": "569b4eba",
   "metadata": {},
   "outputs": [],
   "source": [
    "\"\"\" Preprocessing pipeline with RobustScaler for numerical features \"\"\"\n",
    "\n",
    "preprocessor = ColumnTransformer(\n",
    "    transformers=[\n",
    "        ('cat', OneHotEncoder(handle_unknown='ignore'), categorical),\n",
    "        ('num', RobustScaler(), numerical)\n",
    "    ]\n",
    ")"
   ]
  },
  {
   "cell_type": "code",
   "execution_count": null,
   "id": "8d58941c",
   "metadata": {},
   "outputs": [],
   "source": [
    "\"\"\" Random Forest Modeling with tuning \"\"\"\n",
    "\n",
    "# Random Forest pipeline\n",
    "rf_model = make_pipeline(\n",
    "    preprocessor,\n",
    "    RandomForestRegressor(random_state=42, n_jobs=-1)\n",
    ")\n",
    "\n",
    "# Hyperparameter tuning\n",
    "param_grid = {\n",
    "    'randomforestregressor__n_estimators': [100, 200],\n",
    "    'randomforestregressor__max_depth': [10, 15, None],\n",
    "    'randomforestregressor__min_samples_split': [2, 5],\n",
    "    'randomforestregressor__min_samples_leaf': [1, 2]\n",
    "}\n",
    "grid_search = GridSearchCV(rf_model, param_grid, cv=5, scoring='neg_mean_absolute_error', n_jobs=-1)\n",
    "grid_search.fit(X_train, y_train)\n",
    "\n",
    "# Best model and predictions\n",
    "print(f\"Best parameters: {grid_search.best_params_}\")\n",
    "y_pred_log = grid_search.predict(X_test)\n",
    "y_pred = np.expm1(y_pred_log)\n",
    "y_true = np.expm1(y_test)\n",
    "rf_mae = mean_absolute_error(y_true, y_pred)\n",
    "print(f\"Random Forest MAE: {rf_mae:.2f}\")"
   ]
  }
 ],
 "metadata": {
  "kernelspec": {
   "display_name": "base",
   "language": "python",
   "name": "python3"
  },
  "language_info": {
   "codemirror_mode": {
    "name": "ipython",
    "version": 3
   },
   "file_extension": ".py",
   "mimetype": "text/x-python",
   "name": "python",
   "nbconvert_exporter": "python",
   "pygments_lexer": "ipython3",
   "version": "3.12.7"
  }
 },
 "nbformat": 4,
 "nbformat_minor": 5
}
