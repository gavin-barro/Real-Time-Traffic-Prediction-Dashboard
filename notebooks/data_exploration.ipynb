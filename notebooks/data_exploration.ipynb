{
 "cells": [
  {
   "cell_type": "code",
   "execution_count": null,
   "id": "6c7f14d1",
   "metadata": {},
   "outputs": [],
   "source": [
    "# Import libraries\n",
    "\n",
    "import pandas as pd\n",
    "import numpy as np\n",
    "import matplotlib.pyplot as plt\n",
    "import seaborn as sns\n",
    "from sklearn.linear_model import LinearRegression\n",
    "from sklearn.ensemble import RandomForestRegressor\n",
    "from sklearn.model_selection import train_test_split\n",
    "from sklearn.metrics import mean_squared_error, mean_absolute_error"
   ]
  },
  {
   "cell_type": "code",
   "execution_count": 5,
   "id": "9e2f7c86",
   "metadata": {},
   "outputs": [
    {
     "name": "stdout",
     "output_type": "stream",
     "text": [
      "<class 'pandas.core.frame.DataFrame'>\n",
      "RangeIndex: 273710 entries, 0 to 273709\n",
      "Data columns (total 14 columns):\n",
      " #   Column     Non-Null Count   Dtype \n",
      "---  ------     --------------   ----- \n",
      " 0   requestid  273710 non-null  int64 \n",
      " 1   boro       273710 non-null  object\n",
      " 2   yr         273710 non-null  int64 \n",
      " 3   m          273710 non-null  int64 \n",
      " 4   d          273710 non-null  int64 \n",
      " 5   hh         273710 non-null  int64 \n",
      " 6   mm         273710 non-null  int64 \n",
      " 7   vol        273710 non-null  int64 \n",
      " 8   segmentid  273710 non-null  int64 \n",
      " 9   wktgeom    273710 non-null  object\n",
      " 10  street     273710 non-null  object\n",
      " 11  fromst     273710 non-null  object\n",
      " 12  tost       273710 non-null  object\n",
      " 13  direction  273710 non-null  object\n",
      "dtypes: int64(8), object(6)\n",
      "memory usage: 29.2+ MB\n"
     ]
    },
    {
     "data": {
      "text/plain": [
       "requestid    0\n",
       "boro         0\n",
       "yr           0\n",
       "m            0\n",
       "d            0\n",
       "hh           0\n",
       "mm           0\n",
       "vol          0\n",
       "segmentid    0\n",
       "wktgeom      0\n",
       "street       0\n",
       "fromst       0\n",
       "tost         0\n",
       "direction    0\n",
       "dtype: int64"
      ]
     },
     "execution_count": 5,
     "metadata": {},
     "output_type": "execute_result"
    }
   ],
   "source": [
    "# Load and explore data\n",
    "df = pd.read_csv(\"../data/raw/traffic_volume_2021_plus.csv\")\n",
    "\n",
    "# Quick look\n",
    "df.head()\n",
    "\n",
    "# Basic info\n",
    "df.info()\n",
    "\n",
    "# Check for nulls\n",
    "df.isnull().sum()\n"
   ]
  },
  {
   "cell_type": "code",
   "execution_count": 13,
   "id": "be9cf4f5",
   "metadata": {},
   "outputs": [],
   "source": [
    "# Feature Engineering\n",
    "\n",
    "df.rename(columns={'yr': 'year', 'm': 'month', 'd': 'day', 'hh': 'hour', 'mm': 'minute'}, inplace=True)\n",
    "\n",
    "# Create timestamp\n",
    "df['timestamp'] = pd.to_datetime(df[['year', 'month', 'day', 'hour', 'minute']])\n",
    "\n",
    "# Add derived time features\n",
    "df['hour'] = df['timestamp'].dt.hour\n",
    "df['dayofweek'] = df['timestamp'].dt.dayofweek  # 0=Mon, 6=Sun\n",
    "df['is_weekend'] = df['dayofweek'].isin([5, 6]).astype(int)\n",
    "df['is_rush_hour'] = df['hour'].isin([7, 8, 9, 16, 17, 18]).astype(int)"
   ]
  },
  {
   "cell_type": "code",
   "execution_count": null,
   "id": "b89526dc",
   "metadata": {},
   "outputs": [],
   "source": [
    "# Line Plot: Volume Over Time\n",
    "plt.figure(figsize=(14, 6))\n",
    "sns.lineplot(data=df, x='timestamp', y='vol')\n",
    "plt.title(\"Traffic Volume Over Time\")\n",
    "plt.xlabel(\"Time\")\n",
    "plt.ylabel(\"Volume\")\n",
    "plt.tight_layout()\n",
    "plt.show()\n"
   ]
  },
  {
   "cell_type": "code",
   "execution_count": null,
   "id": "f8d2a9cd",
   "metadata": {},
   "outputs": [],
   "source": [
    "# Heatmap: Hour vs Day of Week\n",
    "\n",
    "# Pivot table: rows=hour, columns=dayofweek, values=mean volume\n",
    "pivot = df.pivot_table(index='hour', columns='dayofweek', values='vol', aggfunc='mean')\n",
    "\n",
    "# Rename columns from 0–6 to weekday names\n",
    "pivot.columns = ['Mon', 'Tue', 'Wed', 'Thu', 'Fri', 'Sat', 'Sun']\n",
    "\n",
    "# Plot heatmap\n",
    "plt.figure(figsize=(10, 6))\n",
    "sns.heatmap(pivot, cmap='viridis', annot=True, fmt=\".1f\")\n",
    "plt.title(\"Average Traffic Volume by Hour and Day of Week\")\n",
    "plt.xlabel(\"Day of Week\")\n",
    "plt.ylabel(\"Hour of Day\")\n",
    "plt.tight_layout()\n",
    "plt.show()"
   ]
  },
  {
   "cell_type": "code",
   "execution_count": 10,
   "id": "853fb4ec",
   "metadata": {},
   "outputs": [
    {
     "ename": "NameError",
     "evalue": "name 'mean_absolute_error' is not defined",
     "output_type": "error",
     "traceback": [
      "\u001b[0;31m---------------------------------------------------------------------------\u001b[0m",
      "\u001b[0;31mNameError\u001b[0m                                 Traceback (most recent call last)",
      "Cell \u001b[0;32mIn[10], line 15\u001b[0m\n\u001b[1;32m     13\u001b[0m \u001b[38;5;66;03m# Evaluate\u001b[39;00m\n\u001b[1;32m     14\u001b[0m preds \u001b[38;5;241m=\u001b[39m model\u001b[38;5;241m.\u001b[39mpredict(X_test)\n\u001b[0;32m---> 15\u001b[0m \u001b[38;5;28mprint\u001b[39m(\u001b[38;5;124m\"\u001b[39m\u001b[38;5;124mMAE:\u001b[39m\u001b[38;5;124m\"\u001b[39m, mean_absolute_error(y_test, preds))\n",
      "\u001b[0;31mNameError\u001b[0m: name 'mean_absolute_error' is not defined"
     ]
    }
   ],
   "source": [
    "# Machine Learning (prediction model)\n",
    "\n",
    "# Define X and y\n",
    "X = df[['hour', 'dayofweek', 'is_weekend', 'is_rush_hour', 'boro', 'direction', 'segmentid']]\n",
    "X = pd.get_dummies(X)  # one-hot encode categoricals\n",
    "y = df['vol']\n",
    "\n",
    "# Split and train\n",
    "X_train, X_test, y_train, y_test = train_test_split(X, y, test_size=0.2, random_state=42)\n",
    "model = RandomForestRegressor()\n",
    "model.fit(X_train, y_train)\n",
    "\n",
    "# Evaluate\n",
    "preds = model.predict(X_test)\n",
    "print(\"MAE:\", mean_absolute_error(y_test, preds))\n"
   ]
  }
 ],
 "metadata": {
  "kernelspec": {
   "display_name": "base",
   "language": "python",
   "name": "python3"
  },
  "language_info": {
   "codemirror_mode": {
    "name": "ipython",
    "version": 3
   },
   "file_extension": ".py",
   "mimetype": "text/x-python",
   "name": "python",
   "nbconvert_exporter": "python",
   "pygments_lexer": "ipython3",
   "version": "3.12.7"
  }
 },
 "nbformat": 4,
 "nbformat_minor": 5
}
